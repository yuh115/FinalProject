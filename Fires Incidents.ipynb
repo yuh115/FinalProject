{
 "cells": [
  {
   "cell_type": "markdown",
   "metadata": {},
   "source": [
    "# Fire Inscedents\n",
    "## Member name: Zipan Huang\n",
    "#### Fire Inscedent data around neighborhoods in Allegheny county"
   ]
  },
  {
   "cell_type": "markdown",
   "metadata": {},
   "source": [
    "**Fire incidents in the City of Pittsburgh is a dataset that contains information on fire incidents that occurred in Pittsburgh. This dataset provides valuable insights into the number of fire incidents, their location, and the type of incidents that occur in each neighborhood. In this project, we aim to analyze this dataset to understand the distribution of fire incidents across different neighborhoods in Pittsburgh and identify any trends or patterns that may exist. By doing so, we can gain insights into the fire safety of each neighborhood and identify any areas that may require additional resources to improve fire safety.**"
   ]
  },
  {
   "cell_type": "code",
   "execution_count": 1,
   "metadata": {},
   "outputs": [],
   "source": [
    "import numpy as np\n",
    "import pandas as pd\n",
    "import os\n",
    "import seaborn as sns\n",
    "\n",
    "import matplotlib.pyplot as plt\n",
    "import matplotlib.mlab as mlab\n",
    "import matplotlib\n",
    "plt.style.use('ggplot')\n",
    "from matplotlib.pyplot import figure"
   ]
  },
  {
   "cell_type": "markdown",
   "metadata": {},
   "source": [
    "**Load the dataset into a pandas DataFrame using the pandas\n",
    "\n",
    "The dataset name is Fire Incidents in City of Pittsburgh**"
   ]
  },
  {
   "cell_type": "code",
   "execution_count": 2,
   "metadata": {},
   "outputs": [
    {
     "data": {
      "text/html": [
       "<div>\n",
       "<style scoped>\n",
       "    .dataframe tbody tr th:only-of-type {\n",
       "        vertical-align: middle;\n",
       "    }\n",
       "\n",
       "    .dataframe tbody tr th {\n",
       "        vertical-align: top;\n",
       "    }\n",
       "\n",
       "    .dataframe thead th {\n",
       "        text-align: right;\n",
       "    }\n",
       "</style>\n",
       "<table border=\"1\" class=\"dataframe\">\n",
       "  <thead>\n",
       "    <tr style=\"text-align: right;\">\n",
       "      <th></th>\n",
       "      <th>call_no</th>\n",
       "      <th>incident_type</th>\n",
       "      <th>type_description</th>\n",
       "      <th>address</th>\n",
       "      <th>alarm_time</th>\n",
       "      <th>alarms</th>\n",
       "      <th>primary_unit</th>\n",
       "      <th>census_tract</th>\n",
       "      <th>neighborhood</th>\n",
       "      <th>council_district</th>\n",
       "      <th>ward</th>\n",
       "      <th>tract</th>\n",
       "      <th>public_works_division</th>\n",
       "      <th>pli_division</th>\n",
       "      <th>police_zone</th>\n",
       "      <th>fire_zone</th>\n",
       "      <th>latitude</th>\n",
       "      <th>longitude</th>\n",
       "    </tr>\n",
       "  </thead>\n",
       "  <tbody>\n",
       "    <tr>\n",
       "      <th>0</th>\n",
       "      <td>F160029985</td>\n",
       "      <td>111.0</td>\n",
       "      <td>Building fire</td>\n",
       "      <td>800 BLOCK CENTER ST, WILKINSBURG PA 15221</td>\n",
       "      <td>2016-04-21T05:01:04</td>\n",
       "      <td>1</td>\n",
       "      <td>231EN16</td>\n",
       "      <td>NaN</td>\n",
       "      <td>NaN</td>\n",
       "      <td>NaN</td>\n",
       "      <td>NaN</td>\n",
       "      <td>4.200356e+10</td>\n",
       "      <td>NaN</td>\n",
       "      <td>NaN</td>\n",
       "      <td>NaN</td>\n",
       "      <td>3-16</td>\n",
       "      <td>40.441275</td>\n",
       "      <td>-79.882485</td>\n",
       "    </tr>\n",
       "    <tr>\n",
       "      <th>1</th>\n",
       "      <td>F180022058</td>\n",
       "      <td>111.0</td>\n",
       "      <td>Building fire</td>\n",
       "      <td>1100 BLOCK JANE ST, WILKINSBURG PA 15221</td>\n",
       "      <td>2018-03-13T08:34:43</td>\n",
       "      <td>1</td>\n",
       "      <td>231EN16</td>\n",
       "      <td>NaN</td>\n",
       "      <td>NaN</td>\n",
       "      <td>NaN</td>\n",
       "      <td>NaN</td>\n",
       "      <td>4.200356e+10</td>\n",
       "      <td>NaN</td>\n",
       "      <td>NaN</td>\n",
       "      <td>NaN</td>\n",
       "      <td>3-21</td>\n",
       "      <td>40.436342</td>\n",
       "      <td>-79.881003</td>\n",
       "    </tr>\n",
       "    <tr>\n",
       "      <th>2</th>\n",
       "      <td>F180022102</td>\n",
       "      <td>131.0</td>\n",
       "      <td>Passenger vehicle fire</td>\n",
       "      <td>SB STATE HWY 28 SB AT 31S, PITTSBURGH PA 15212</td>\n",
       "      <td>2018-03-13T11:54:23</td>\n",
       "      <td>0</td>\n",
       "      <td>231EN32</td>\n",
       "      <td>2406.0</td>\n",
       "      <td>NaN</td>\n",
       "      <td>NaN</td>\n",
       "      <td>NaN</td>\n",
       "      <td>NaN</td>\n",
       "      <td>NaN</td>\n",
       "      <td>NaN</td>\n",
       "      <td>NaN</td>\n",
       "      <td>1-1A</td>\n",
       "      <td>NaN</td>\n",
       "      <td>NaN</td>\n",
       "    </tr>\n",
       "    <tr>\n",
       "      <th>3</th>\n",
       "      <td>F170043431</td>\n",
       "      <td>131.0</td>\n",
       "      <td>Passenger vehicle fire</td>\n",
       "      <td>1700 BLOCK BELLEAU DR, PITTSBURGH PA 15212</td>\n",
       "      <td>2017-05-31T08:39:47</td>\n",
       "      <td>0</td>\n",
       "      <td>231EN38</td>\n",
       "      <td>2509.0</td>\n",
       "      <td>Fineview</td>\n",
       "      <td>6.0</td>\n",
       "      <td>25.0</td>\n",
       "      <td>4.200325e+10</td>\n",
       "      <td>1.0</td>\n",
       "      <td>25.0</td>\n",
       "      <td>1.0</td>\n",
       "      <td>1-10</td>\n",
       "      <td>40.460303</td>\n",
       "      <td>-80.006980</td>\n",
       "    </tr>\n",
       "    <tr>\n",
       "      <th>4</th>\n",
       "      <td>F180021111</td>\n",
       "      <td>111.0</td>\n",
       "      <td>Building fire</td>\n",
       "      <td>2400 BLOCK VILLAGE RD, PITTSBURGH PA 15205</td>\n",
       "      <td>2018-03-09T10:26:42</td>\n",
       "      <td>1</td>\n",
       "      <td>231EN31</td>\n",
       "      <td>2808.0</td>\n",
       "      <td>Fairywood</td>\n",
       "      <td>2.0</td>\n",
       "      <td>28.0</td>\n",
       "      <td>4.200356e+10</td>\n",
       "      <td>5.0</td>\n",
       "      <td>28.0</td>\n",
       "      <td>6.0</td>\n",
       "      <td>1-16</td>\n",
       "      <td>40.449009</td>\n",
       "      <td>-80.076607</td>\n",
       "    </tr>\n",
       "  </tbody>\n",
       "</table>\n",
       "</div>"
      ],
      "text/plain": [
       "      call_no  incident_type        type_description  \\\n",
       "0  F160029985          111.0           Building fire   \n",
       "1  F180022058          111.0           Building fire   \n",
       "2  F180022102          131.0  Passenger vehicle fire   \n",
       "3  F170043431          131.0  Passenger vehicle fire   \n",
       "4  F180021111          111.0           Building fire   \n",
       "\n",
       "                                          address           alarm_time  \\\n",
       "0       800 BLOCK CENTER ST, WILKINSBURG PA 15221  2016-04-21T05:01:04   \n",
       "1        1100 BLOCK JANE ST, WILKINSBURG PA 15221  2018-03-13T08:34:43   \n",
       "2  SB STATE HWY 28 SB AT 31S, PITTSBURGH PA 15212  2018-03-13T11:54:23   \n",
       "3      1700 BLOCK BELLEAU DR, PITTSBURGH PA 15212  2017-05-31T08:39:47   \n",
       "4      2400 BLOCK VILLAGE RD, PITTSBURGH PA 15205  2018-03-09T10:26:42   \n",
       "\n",
       "   alarms primary_unit  census_tract neighborhood  council_district  ward  \\\n",
       "0       1      231EN16           NaN          NaN               NaN   NaN   \n",
       "1       1      231EN16           NaN          NaN               NaN   NaN   \n",
       "2       0      231EN32        2406.0          NaN               NaN   NaN   \n",
       "3       0      231EN38        2509.0     Fineview               6.0  25.0   \n",
       "4       1      231EN31        2808.0    Fairywood               2.0  28.0   \n",
       "\n",
       "          tract  public_works_division  pli_division  police_zone fire_zone  \\\n",
       "0  4.200356e+10                    NaN           NaN          NaN      3-16   \n",
       "1  4.200356e+10                    NaN           NaN          NaN      3-21   \n",
       "2           NaN                    NaN           NaN          NaN      1-1A   \n",
       "3  4.200325e+10                    1.0          25.0          1.0      1-10   \n",
       "4  4.200356e+10                    5.0          28.0          6.0      1-16   \n",
       "\n",
       "    latitude  longitude  \n",
       "0  40.441275 -79.882485  \n",
       "1  40.436342 -79.881003  \n",
       "2        NaN        NaN  \n",
       "3  40.460303 -80.006980  \n",
       "4  40.449009 -80.076607  "
      ]
     },
     "execution_count": 2,
     "metadata": {},
     "output_type": "execute_result"
    }
   ],
   "source": [
    "# Import the data from Fire Incidents in City of Pittsbugh\n",
    "df = pd.read_csv('Fires.csv')\n",
    "df.head()\n",
    "# https://data.wprdc.org/dataset/fire-incidents-in-city-of-pittsburgh"
   ]
  },
  {
   "cell_type": "markdown",
   "metadata": {},
   "source": [
    "**Check and clean the data**"
   ]
  },
  {
   "cell_type": "code",
   "execution_count": 3,
   "metadata": {},
   "outputs": [
    {
     "name": "stdout",
     "output_type": "stream",
     "text": [
      "(9157, 18)\n",
      "call_no                   object\n",
      "incident_type            float64\n",
      "type_description          object\n",
      "address                   object\n",
      "alarm_time                object\n",
      "alarms                     int64\n",
      "primary_unit              object\n",
      "census_tract             float64\n",
      "neighborhood              object\n",
      "council_district         float64\n",
      "ward                     float64\n",
      "tract                    float64\n",
      "public_works_division    float64\n",
      "pli_division             float64\n",
      "police_zone              float64\n",
      "fire_zone                 object\n",
      "latitude                 float64\n",
      "longitude                float64\n",
      "dtype: object\n",
      "['incident_type' 'alarms' 'census_tract' 'council_district' 'ward' 'tract'\n",
      " 'public_works_division' 'pli_division' 'police_zone' 'latitude'\n",
      " 'longitude']\n",
      "['call_no' 'type_description' 'address' 'alarm_time' 'primary_unit'\n",
      " 'neighborhood' 'fire_zone']\n"
     ]
    }
   ],
   "source": [
    "# Check the data\n",
    "\n",
    "# shape and data types of the data\n",
    "print(df.shape)\n",
    "print(df.dtypes)\n",
    "\n",
    "# select numeric columns\n",
    "df_numeric = df.select_dtypes(include=[np.number])\n",
    "numeric_cols = df_numeric.columns.values\n",
    "print(numeric_cols)\n",
    "\n",
    "# select non numeric columns\n",
    "df_non_numeric = df.select_dtypes(exclude=[np.number])\n",
    "non_numeric_cols = df_non_numeric.columns.values\n",
    "print(non_numeric_cols)"
   ]
  },
  {
   "cell_type": "code",
   "execution_count": 4,
   "metadata": {},
   "outputs": [
    {
     "data": {
      "text/plain": [
       "<matplotlib.axes._subplots.AxesSubplot at 0x7fcde774f1c0>"
      ]
     },
     "execution_count": 4,
     "metadata": {},
     "output_type": "execute_result"
    },
    {
     "data": {
      "image/png": "[encoded data removed]",
      "text/plain": [
       "<Figure size 432x288 with 2 Axes>"
      ]
     },
     "metadata": {},
     "output_type": "display_data"
    }
   ],
   "source": [
    "# Clean the dataset by removing any irrelevant or missing data.\n",
    "# Check missing data: \n",
    "\n",
    "cols = df.columns[:30] # first 30 columns\n",
    "colours = ['#000099', '#ffff00'] # specify the colours - yellow is missing. blue is not missing.\n",
    "sns.heatmap(df[cols].isnull(), cmap=sns.color_palette(colours))\n",
    "\n"
   ]
  },
  {
   "cell_type": "code",
   "execution_count": 5,
   "metadata": {},
   "outputs": [
    {
     "name": "stdout",
     "output_type": "stream",
     "text": [
      "call_no - 0%\n",
      "incident_type - 0%\n",
      "type_description - 0%\n",
      "address - 0%\n",
      "alarm_time - 0%\n",
      "alarms - 0%\n",
      "primary_unit - 0%\n",
      "census_tract - 6%\n",
      "neighborhood - 14%\n",
      "council_district - 14%\n",
      "ward - 14%\n",
      "tract - 9%\n",
      "public_works_division - 14%\n",
      "pli_division - 14%\n",
      "police_zone - 14%\n",
      "fire_zone - 0%\n",
      "latitude - 9%\n",
      "longitude - 9%\n"
     ]
    }
   ],
   "source": [
    "# if it's a larger dataset and the visualization takes too long can do this.\n",
    "# % of missing.\n",
    "for col in df.columns:\n",
    "    pct_missing = np.mean(df[col].isnull())\n",
    "    print('{} - {}%'.format(col, round(pct_missing*100)))"
   ]
  },
  {
   "cell_type": "markdown",
   "metadata": {},
   "source": [
    "**To group the data by neighborhood.**"
   ]
  },
  {
   "cell_type": "code",
   "execution_count": 6,
   "metadata": {},
   "outputs": [
    {
     "name": "stdout",
     "output_type": "stream",
     "text": [
      "neighborhood\n",
      "Allegheny Center        61\n",
      "Allegheny West          42\n",
      "Allentown              122\n",
      "Arlington               50\n",
      "Arlington Heights       13\n",
      "                      ... \n",
      "Upper Lawrenceville     50\n",
      "West End                20\n",
      "West Oakland            58\n",
      "Westwood                26\n",
      "Windgap                 20\n",
      "Length: 91, dtype: int64\n",
      "neighborhood      alarms  type_description                               \n",
      "Allegheny Center  0       Brush or brush-and-grass mixture fire              6\n",
      "                          Dumpster or other outside trash receptacle fire    5\n",
      "                          Mobile property (vehicle) fire, Other              1\n",
      "                          Natural vegetation fire, Other                     4\n",
      "                          Outside equipment fire                             1\n",
      "                                                                            ..\n",
      "Windgap           0       Special outside fire, Other                        1\n",
      "                  1       Building fire                                      5\n",
      "                          Cooking fire, confined to container                3\n",
      "                          Natural vegetation fire, Other                     1\n",
      "                          Trash or rubbish fire, contained                   1\n",
      "Length: 1580, dtype: int64\n"
     ]
    }
   ],
   "source": [
    "# Use the groupby() function in pandas to group the data by neighborhood.\n",
    "\n",
    "#print(df)\n",
    "grouped = df.groupby('neighborhood')\n",
    "grouped_muti = df.groupby(['neighborhood', 'alarms' , 'type_description'])\n",
    "print(grouped.size())\n",
    "print(grouped_muti.size())\n"
   ]
  },
  {
   "cell_type": "markdown",
   "metadata": {},
   "source": [
    "**Count the number of fire incidents in each neighborhood [Count ()]**"
   ]
  },
  {
   "cell_type": "code",
   "execution_count": 7,
   "metadata": {},
   "outputs": [
    {
     "name": "stdout",
     "output_type": "stream",
     "text": [
      "neighborhood\n",
      "Allegheny Center        61\n",
      "Allegheny West          42\n",
      "Allentown              122\n",
      "Arlington               50\n",
      "Arlington Heights       13\n",
      "                      ... \n",
      "Upper Lawrenceville     50\n",
      "West End                20\n",
      "West Oakland            58\n",
      "Westwood                26\n",
      "Windgap                 20\n",
      "Name: alarms, Length: 91, dtype: int64\n"
     ]
    }
   ],
   "source": [
    "# Count the number of fire incidents in each neighborhood using the count() function in pandas.\n",
    "grouped_fire_df = df.groupby(['neighborhood'])['alarms'].count()\n",
    "# Print the resulting dataframe\n",
    "print(grouped_fire_df)"
   ]
  },
  {
   "cell_type": "markdown",
   "metadata": {},
   "source": [
    "**Create a new DataFrame to store the total number of fire incidents in each neighborhood.**"
   ]
  },
  {
   "cell_type": "code",
   "execution_count": 8,
   "metadata": {},
   "outputs": [
    {
     "name": "stdout",
     "output_type": "stream",
     "text": [
      "           neighborhood  num_fire_incidents\n",
      "0      Allegheny Center                  61\n",
      "1        Allegheny West                  42\n",
      "2             Allentown                 122\n",
      "3             Arlington                  50\n",
      "4     Arlington Heights                  13\n",
      "..                  ...                 ...\n",
      "86  Upper Lawrenceville                  50\n",
      "87             West End                  20\n",
      "88         West Oakland                  58\n",
      "89             Westwood                  26\n",
      "90              Windgap                  20\n",
      "\n",
      "[91 rows x 2 columns]\n"
     ]
    }
   ],
   "source": [
    "# Create a new DataFrame to store the total number of fire incidents in each neighborhood.\n",
    "fire_neighborhood_df = pd.DataFrame({'neighborhood': grouped_fire_df.index, 'num_fire_incidents': grouped_fire_df.values})\n",
    "\n",
    "print(fire_neighborhood_df)"
   ]
  },
  {
   "cell_type": "markdown",
   "metadata": {},
   "source": [
    "**Merge this new DataFrame with the original dataset**"
   ]
  },
  {
   "cell_type": "code",
   "execution_count": 9,
   "metadata": {},
   "outputs": [
    {
     "name": "stdout",
     "output_type": "stream",
     "text": [
      "      call_no  incident_type        type_description  \\\n",
      "0  F170043431          131.0  Passenger vehicle fire   \n",
      "1  F140015339          131.0  Passenger vehicle fire   \n",
      "2  F140004033          111.0           Building fire   \n",
      "3  F140008680          131.0  Passenger vehicle fire   \n",
      "4  F150056424          131.0  Passenger vehicle fire   \n",
      "\n",
      "                                            address           alarm_time  \\\n",
      "0        1700 BLOCK BELLEAU DR, PITTSBURGH PA 15212  2017-05-31T08:39:47   \n",
      "1  LAFAYETTE AVE & FEDERAL STR, PITTSBURGH PA 15212  2014-02-26T12:17:12   \n",
      "2        2000 BLOCK LETSCHE ST, PITTSBURGH PA 15214  2014-01-12T15:38:37   \n",
      "3        1700 BLOCK BELLEAU DR, PITTSBURGH PA 15214  2014-01-30T17:41:23   \n",
      "4        1700 BLOCK BELLEAU DR, PITTSBURGH PA 15212  2015-07-20T21:48:00   \n",
      "\n",
      "   alarms primary_unit  census_tract neighborhood  council_district  ward  \\\n",
      "0       0      231EN38        2509.0     Fineview               6.0  25.0   \n",
      "1       0      231EN38        2614.0     Fineview               6.0  25.0   \n",
      "2       1      231EN38        2509.0     Fineview               6.0  25.0   \n",
      "3       0      231EN38        2509.0     Fineview               6.0  25.0   \n",
      "4       0      231EN38        2509.0     Fineview               6.0  25.0   \n",
      "\n",
      "          tract  public_works_division  pli_division  police_zone fire_zone  \\\n",
      "0  4.200325e+10                    1.0          25.0          1.0      1-10   \n",
      "1  4.200325e+10                    1.0          25.0          1.0      1-10   \n",
      "2  4.200325e+10                    1.0          25.0          1.0      1-10   \n",
      "3  4.200325e+10                    1.0          25.0          1.0      1-10   \n",
      "4  4.200325e+10                    1.0          25.0          1.0      1-10   \n",
      "\n",
      "    latitude  longitude  num_fire_incidents  \n",
      "0  40.460303 -80.006980                  46  \n",
      "1  40.465099 -80.010044                  46  \n",
      "2  40.463473 -80.008452                  46  \n",
      "3  40.460303 -80.006980                  46  \n",
      "4  40.460303 -80.006980                  46  \n"
     ]
    }
   ],
   "source": [
    "# Merge this new DataFrame with the original dataset using the merge() function in pandas.\n",
    "\n",
    "fires = df.merge(fire_neighborhood_df, on=\"neighborhood\")\n",
    "# Print the merged DataFrame\n",
    "\n",
    "print(fires.head())\n"
   ]
  },
  {
   "cell_type": "markdown",
   "metadata": {},
   "source": [
    "**Visualize the data using a bar chart or any other relevant plot to see the distribution of fire incidents across neighborhoods.**"
   ]
  },
  {
   "cell_type": "code",
   "execution_count": null,
   "metadata": {},
   "outputs": [],
   "source": [
    "import matplotlib.pyplot as plt\n",
    "# Visualize the data using a bar chart or any other relevant plot to see the distribution of fire incidents across neighborhoods.\n",
    "\n",
    "# Set the figure size\n",
    "plt.rcParams['figure.figsize'] = [50, 10]\n",
    "\n",
    "# Create a bar chart of fire incidents by neighborhood\n",
    "plt.bar(fires['neighborhood'], fires['alarms'])\n",
    "\n",
    "# Set the title and axis labels\n",
    "plt.title('Number of Fire Incidents by Neighborhood')\n",
    "plt.xlabel('Neighborhood')\n",
    "plt.ylabel('Number of Fire Incidents')\n",
    "\n",
    "# Rotate x-axis labels for readability\n",
    "plt.xticks(rotation=90)\n",
    "\n",
    "# Display the plot\n",
    "plt.show()\n"
   ]
  },
  {
   "cell_type": "markdown",
   "metadata": {},
   "source": [
    "**This is a bar chart displaying the top 10 neighborhoods with the lowest number of fire incidents, sorted in ascending order**"
   ]
  },
  {
   "cell_type": "code",
   "execution_count": null,
   "metadata": {},
   "outputs": [],
   "source": [
    "import matplotlib.pyplot as plt\n",
    "import pandas as pd\n",
    "\n",
    "# Set the figure size\n",
    "plt.rcParams['figure.figsize'] = [10, 10]\n",
    "\n",
    "# Calculate the sum of alarms for each neighborhood\n",
    "alarms_sum = fires.groupby('neighborhood')['alarms'].sum().reset_index()\n",
    "\n",
    "# Sort the data by the number of alarms (ascending) and select the top 10 neighborhoods with the lowest fire incidents\n",
    "top10_lowest = alarms_sum.sort_values(by='alarms', ascending=True).head(10)\n",
    "\n",
    "# Create a bar chart of the top 10 neighborhoods with the lowest fire incidents\n",
    "plt.bar(top10_lowest['neighborhood'], top10_lowest['alarms'])\n",
    "\n",
    "# Set the title and axis labels\n",
    "plt.title('Top 10 Neighborhoods with the Lowest Fire Incidents')\n",
    "plt.xlabel('Neighborhood')\n",
    "plt.ylabel('Number of Fire Incidents')\n",
    "\n",
    "# Rotate x-axis labels for readability\n",
    "plt.xticks(rotation=90)\n",
    "\n",
    "# Display the plot\n",
    "plt.show()\n"
   ]
  },
  {
   "cell_type": "markdown",
   "metadata": {},
   "source": [
    "**This will create a bar chart displaying the top 10 neighborhoods with the highest number of fire incidents, sorted in descending order.**"
   ]
  },
  {
   "cell_type": "code",
   "execution_count": null,
   "metadata": {},
   "outputs": [],
   "source": [
    "import matplotlib.pyplot as plt\n",
    "import pandas as pd\n",
    "\n",
    "# Set the figure size\n",
    "plt.rcParams['figure.figsize'] = [10, 10]\n",
    "\n",
    "# Calculate the sum of alarms for each neighborhood\n",
    "alarms_sum = fires.groupby('neighborhood')['alarms'].sum().reset_index()\n",
    "\n",
    "# Sort the data by the number of alarms (descending) and select the top 10 neighborhoods with the highest fire incidents\n",
    "top10_highest = alarms_sum.sort_values(by='alarms', ascending=False).head(10)\n",
    "\n",
    "# Create a bar chart of the top 10 neighborhoods with the highest fire incidents\n",
    "plt.bar(top10_highest['neighborhood'], top10_highest['alarms'])\n",
    "\n",
    "# Set the title and axis labels\n",
    "plt.title('Top 10 Neighborhoods with the Highest Fire Incidents')\n",
    "plt.xlabel('Neighborhood')\n",
    "plt.ylabel('Number of Fire Incidents')\n",
    "\n",
    "# Rotate x-axis labels for readability\n",
    "plt.xticks(rotation=90)\n",
    "\n",
    "# Display the plot\n",
    "plt.show()\n",
    "\n"
   ]
  },
  {
   "cell_type": "markdown",
   "metadata": {},
   "source": [
    "**Fire incidents: Sub indicator, analyzing the number of fire incidents in each community and ranking the communities based on this indicator.\n",
    "Or check the types of fire incidents that occur in each block to see if there are any patterns.**\n",
    "\n",
    "\n",
    "**Group: Assign higher weights to the number of fire incidents, as security is an important factor in determining the optimal neighborhood. After assigning weights to each sub indicator, calculate the weighted average for each community and rank the communities based on this weighted average.**"
   ]
  }
 ],
 "metadata": {
  "kernelspec": {
   "display_name": "Python 3",
   "language": "python",
   "name": "python3"
  },
  "language_info": {
   "codemirror_mode": {
    "name": "ipython",
    "version": 3
   },
   "file_extension": ".py",
   "mimetype": "text/x-python",
   "name": "python",
   "nbconvert_exporter": "python",
   "pygments_lexer": "ipython3",
   "version": "3.8.3"
  }
 },
 "nbformat": 4,
 "nbformat_minor": 4
}
