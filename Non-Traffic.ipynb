{
 "cells": [
  {
   "cell_type": "markdown",
   "metadata": {},
   "source": [
    "# \"Non-Traffic Citations\" \n",
    "### - Maggie Lin"
   ]
  },
  {
   "cell_type": "code",
   "execution_count": 10,
   "metadata": {},
   "outputs": [],
   "source": [
    "import pandas as pd\n",
    "import matplotlib.pyplot as plt\n",
    "import geopandas as gpd"
   ]
  },
  {
   "cell_type": "markdown",
   "metadata": {},
   "source": [
    "Here's the overall data of the Non-Traffic Citations"
   ]
  },
  {
   "cell_type": "code",
   "execution_count": 11,
   "metadata": {},
   "outputs": [
    {
     "data": {
      "text/html": [
       "<div>\n",
       "<style scoped>\n",
       "    .dataframe tbody tr th:only-of-type {\n",
       "        vertical-align: middle;\n",
       "    }\n",
       "\n",
       "    .dataframe tbody tr th {\n",
       "        vertical-align: top;\n",
       "    }\n",
       "\n",
       "    .dataframe thead th {\n",
       "        text-align: right;\n",
       "    }\n",
       "</style>\n",
       "<table border=\"1\" class=\"dataframe\">\n",
       "  <thead>\n",
       "    <tr style=\"text-align: right;\">\n",
       "      <th></th>\n",
       "      <th>PK</th>\n",
       "      <th>CCR</th>\n",
       "      <th>GENDER</th>\n",
       "      <th>RACE</th>\n",
       "      <th>AGE</th>\n",
       "      <th>CITEDTIME</th>\n",
       "      <th>INCIDENTLOCATION</th>\n",
       "      <th>OFFENSES</th>\n",
       "      <th>NEIGHBORHOOD</th>\n",
       "      <th>ZONE</th>\n",
       "      <th>INCIDENTTRACT</th>\n",
       "      <th>COUNCIL_DISTRICT</th>\n",
       "      <th>PUBLIC_WORKS_DIVISION</th>\n",
       "      <th>X</th>\n",
       "      <th>Y</th>\n",
       "    </tr>\n",
       "  </thead>\n",
       "  <tbody>\n",
       "    <tr>\n",
       "      <th>0</th>\n",
       "      <td>1078081</td>\n",
       "      <td>16157849</td>\n",
       "      <td>M</td>\n",
       "      <td>B</td>\n",
       "      <td>29.0</td>\n",
       "      <td>2016-08-22T23:45:00</td>\n",
       "      <td>200 Block N DITHRIDGE ST PITTSBURGH, PA</td>\n",
       "      <td>5503(a)(2) DISORDERLY CONDUCT - UNREASONABLE N...</td>\n",
       "      <td>North Oakland</td>\n",
       "      <td>4</td>\n",
       "      <td>507</td>\n",
       "      <td>8.0</td>\n",
       "      <td>3.0</td>\n",
       "      <td>-79.951692</td>\n",
       "      <td>40.449311</td>\n",
       "    </tr>\n",
       "    <tr>\n",
       "      <th>1</th>\n",
       "      <td>1078082</td>\n",
       "      <td>16157849</td>\n",
       "      <td>M</td>\n",
       "      <td>W</td>\n",
       "      <td>21.0</td>\n",
       "      <td>2016-08-22T23:45:00</td>\n",
       "      <td>200 Block N DITHRIDGE ST PITTSBURGH, PA</td>\n",
       "      <td>5503(a)(2) DISORDERLY CONDUCT - UNREASONABLE N...</td>\n",
       "      <td>North Oakland</td>\n",
       "      <td>4</td>\n",
       "      <td>507</td>\n",
       "      <td>8.0</td>\n",
       "      <td>3.0</td>\n",
       "      <td>-79.951692</td>\n",
       "      <td>40.449311</td>\n",
       "    </tr>\n",
       "    <tr>\n",
       "      <th>2</th>\n",
       "      <td>1078083</td>\n",
       "      <td>16159579</td>\n",
       "      <td>NaN</td>\n",
       "      <td>NaN</td>\n",
       "      <td>NaN</td>\n",
       "      <td>2016-08-25T11:10:00</td>\n",
       "      <td>NORTH PARK PITTSBURGH, PA</td>\n",
       "      <td>5505 Public Drunkenness</td>\n",
       "      <td>Allegheny Center</td>\n",
       "      <td>1</td>\n",
       "      <td>2204</td>\n",
       "      <td>NaN</td>\n",
       "      <td>NaN</td>\n",
       "      <td>NaN</td>\n",
       "      <td>NaN</td>\n",
       "    </tr>\n",
       "    <tr>\n",
       "      <th>3</th>\n",
       "      <td>1078084</td>\n",
       "      <td>16159780</td>\n",
       "      <td>M</td>\n",
       "      <td>B</td>\n",
       "      <td>22.0</td>\n",
       "      <td>2016-08-25T16:42:00</td>\n",
       "      <td>7200 Block FRANKSTOWN AV PITTSBURGH, PA</td>\n",
       "      <td>6501(a)(1) Scattering Rubbish; Any waste, dang...</td>\n",
       "      <td>Homewood South</td>\n",
       "      <td>5</td>\n",
       "      <td>1303</td>\n",
       "      <td>9.0</td>\n",
       "      <td>2.0</td>\n",
       "      <td>-79.896254</td>\n",
       "      <td>40.457329</td>\n",
       "    </tr>\n",
       "    <tr>\n",
       "      <th>4</th>\n",
       "      <td>1078085</td>\n",
       "      <td>16161591</td>\n",
       "      <td>F</td>\n",
       "      <td>W</td>\n",
       "      <td>22.0</td>\n",
       "      <td>2016-08-28T00:58:00</td>\n",
       "      <td>6100 Block BERLIN WY PITTSBURGH, PA</td>\n",
       "      <td>5503(a)(2) DISORDERLY CONDUCT - UNREASONABLE N...</td>\n",
       "      <td>Upper Lawrenceville</td>\n",
       "      <td>2</td>\n",
       "      <td>1011</td>\n",
       "      <td>7.0</td>\n",
       "      <td>2.0</td>\n",
       "      <td>-79.946664</td>\n",
       "      <td>40.485403</td>\n",
       "    </tr>\n",
       "    <tr>\n",
       "      <th>5</th>\n",
       "      <td>1078086</td>\n",
       "      <td>16162400</td>\n",
       "      <td>M</td>\n",
       "      <td>W</td>\n",
       "      <td>28.0</td>\n",
       "      <td>2016-08-29T10:34:00</td>\n",
       "      <td>MARKET ST &amp; 5TH AV PITTSBURGH, PA</td>\n",
       "      <td>5507(a) Obstructing highway, railroad or publi...</td>\n",
       "      <td>Golden Triangle/Civic Arena</td>\n",
       "      <td>2</td>\n",
       "      <td>201</td>\n",
       "      <td>6.0</td>\n",
       "      <td>6.0</td>\n",
       "      <td>-80.002109</td>\n",
       "      <td>40.441383</td>\n",
       "    </tr>\n",
       "    <tr>\n",
       "      <th>6</th>\n",
       "      <td>1078087</td>\n",
       "      <td>16162524</td>\n",
       "      <td>M</td>\n",
       "      <td>B</td>\n",
       "      <td>56.0</td>\n",
       "      <td>2016-08-29T13:00:00</td>\n",
       "      <td>MARKET ST &amp; FORBES AV PITTSBURGH, PA</td>\n",
       "      <td>601.08 (a) Open Container Law</td>\n",
       "      <td>Golden Triangle/Civic Arena</td>\n",
       "      <td>1</td>\n",
       "      <td>201</td>\n",
       "      <td>6.0</td>\n",
       "      <td>6.0</td>\n",
       "      <td>-80.002190</td>\n",
       "      <td>40.440584</td>\n",
       "    </tr>\n",
       "    <tr>\n",
       "      <th>7</th>\n",
       "      <td>1078088</td>\n",
       "      <td>16162524</td>\n",
       "      <td>M</td>\n",
       "      <td>W</td>\n",
       "      <td>44.0</td>\n",
       "      <td>2016-08-29T13:00:00</td>\n",
       "      <td>MARKET ST &amp; FORBES AV PITTSBURGH, PA</td>\n",
       "      <td>601.08 (a) Open Container Law</td>\n",
       "      <td>Golden Triangle/Civic Arena</td>\n",
       "      <td>1</td>\n",
       "      <td>201</td>\n",
       "      <td>6.0</td>\n",
       "      <td>6.0</td>\n",
       "      <td>-80.002190</td>\n",
       "      <td>40.440584</td>\n",
       "    </tr>\n",
       "    <tr>\n",
       "      <th>8</th>\n",
       "      <td>1078089</td>\n",
       "      <td>16083638</td>\n",
       "      <td>M</td>\n",
       "      <td>W</td>\n",
       "      <td>50.0</td>\n",
       "      <td>2016-05-07T16:30:00</td>\n",
       "      <td>40TH ST &amp; DAVISON ST PITTSBURGH, PA</td>\n",
       "      <td>5505 Public Drunkenness</td>\n",
       "      <td>Lower Lawrenceville</td>\n",
       "      <td>2</td>\n",
       "      <td>603</td>\n",
       "      <td>7.0</td>\n",
       "      <td>2.0</td>\n",
       "      <td>-79.960903</td>\n",
       "      <td>40.467585</td>\n",
       "    </tr>\n",
       "    <tr>\n",
       "      <th>9</th>\n",
       "      <td>1078090</td>\n",
       "      <td>16077700</td>\n",
       "      <td>M</td>\n",
       "      <td>B</td>\n",
       "      <td>24.0</td>\n",
       "      <td>2016-04-29T01:05:00</td>\n",
       "      <td>80 Block S 15TH ST PITTSBURGH, PA</td>\n",
       "      <td>3304(a)(5) CRIMINAL MISCHIEF - Intentionally D...</td>\n",
       "      <td>South Side Flats</td>\n",
       "      <td>3</td>\n",
       "      <td>1702</td>\n",
       "      <td>3.0</td>\n",
       "      <td>3.0</td>\n",
       "      <td>-79.983573</td>\n",
       "      <td>40.428555</td>\n",
       "    </tr>\n",
       "  </tbody>\n",
       "</table>\n",
       "</div>"
      ],
      "text/plain": [
       "        PK       CCR GENDER RACE   AGE            CITEDTIME  \\\n",
       "0  1078081  16157849      M    B  29.0  2016-08-22T23:45:00   \n",
       "1  1078082  16157849      M    W  21.0  2016-08-22T23:45:00   \n",
       "2  1078083  16159579    NaN  NaN   NaN  2016-08-25T11:10:00   \n",
       "3  1078084  16159780      M    B  22.0  2016-08-25T16:42:00   \n",
       "4  1078085  16161591      F    W  22.0  2016-08-28T00:58:00   \n",
       "5  1078086  16162400      M    W  28.0  2016-08-29T10:34:00   \n",
       "6  1078087  16162524      M    B  56.0  2016-08-29T13:00:00   \n",
       "7  1078088  16162524      M    W  44.0  2016-08-29T13:00:00   \n",
       "8  1078089  16083638      M    W  50.0  2016-05-07T16:30:00   \n",
       "9  1078090  16077700      M    B  24.0  2016-04-29T01:05:00   \n",
       "\n",
       "                           INCIDENTLOCATION  \\\n",
       "0  200 Block N DITHRIDGE ST PITTSBURGH, PA    \n",
       "1  200 Block N DITHRIDGE ST PITTSBURGH, PA    \n",
       "2                NORTH PARK PITTSBURGH, PA    \n",
       "3  7200 Block FRANKSTOWN AV PITTSBURGH, PA    \n",
       "4      6100 Block BERLIN WY PITTSBURGH, PA    \n",
       "5        MARKET ST & 5TH AV PITTSBURGH, PA    \n",
       "6     MARKET ST & FORBES AV PITTSBURGH, PA    \n",
       "7     MARKET ST & FORBES AV PITTSBURGH, PA    \n",
       "8      40TH ST & DAVISON ST PITTSBURGH, PA    \n",
       "9        80 Block S 15TH ST PITTSBURGH, PA    \n",
       "\n",
       "                                            OFFENSES  \\\n",
       "0  5503(a)(2) DISORDERLY CONDUCT - UNREASONABLE N...   \n",
       "1  5503(a)(2) DISORDERLY CONDUCT - UNREASONABLE N...   \n",
       "2                            5505 Public Drunkenness   \n",
       "3  6501(a)(1) Scattering Rubbish; Any waste, dang...   \n",
       "4  5503(a)(2) DISORDERLY CONDUCT - UNREASONABLE N...   \n",
       "5  5507(a) Obstructing highway, railroad or publi...   \n",
       "6                      601.08 (a) Open Container Law   \n",
       "7                      601.08 (a) Open Container Law   \n",
       "8                            5505 Public Drunkenness   \n",
       "9  3304(a)(5) CRIMINAL MISCHIEF - Intentionally D...   \n",
       "\n",
       "                  NEIGHBORHOOD ZONE INCIDENTTRACT  COUNCIL_DISTRICT  \\\n",
       "0                North Oakland    4           507               8.0   \n",
       "1                North Oakland    4           507               8.0   \n",
       "2             Allegheny Center    1          2204               NaN   \n",
       "3               Homewood South    5          1303               9.0   \n",
       "4          Upper Lawrenceville    2          1011               7.0   \n",
       "5  Golden Triangle/Civic Arena    2           201               6.0   \n",
       "6  Golden Triangle/Civic Arena    1           201               6.0   \n",
       "7  Golden Triangle/Civic Arena    1           201               6.0   \n",
       "8          Lower Lawrenceville    2           603               7.0   \n",
       "9             South Side Flats    3          1702               3.0   \n",
       "\n",
       "   PUBLIC_WORKS_DIVISION          X          Y  \n",
       "0                    3.0 -79.951692  40.449311  \n",
       "1                    3.0 -79.951692  40.449311  \n",
       "2                    NaN        NaN        NaN  \n",
       "3                    2.0 -79.896254  40.457329  \n",
       "4                    2.0 -79.946664  40.485403  \n",
       "5                    6.0 -80.002109  40.441383  \n",
       "6                    6.0 -80.002190  40.440584  \n",
       "7                    6.0 -80.002190  40.440584  \n",
       "8                    2.0 -79.960903  40.467585  \n",
       "9                    3.0 -79.983573  40.428555  "
      ]
     },
     "execution_count": 11,
     "metadata": {},
     "output_type": "execute_result"
    }
   ],
   "source": [
    "neighborhood = gpd.read_file(\"https://data.wprdc.org/dataset/e672f13d-71c4-4a66-8f38-710e75ed80a4/resource/c5a93a8e-03d7-4eb3-91a8-c6b7db0fa261/download/pittsburghpaneighborhoods-.zip\")\n",
    "File = \"https://data.wprdc.org/datastore/dump/6b11e87d-1216-463d-bbd3-37460e539d86\"\n",
    "data = pd.read_csv(File)\n",
    "data.head(10)"
   ]
  },
  {
   "cell_type": "markdown",
   "metadata": {},
   "source": [
    "Here's the column of neighborhood where all the criminal offenses take place in"
   ]
  },
  {
   "cell_type": "code",
   "execution_count": 3,
   "metadata": {},
   "outputs": [
    {
     "data": {
      "text/html": [
       "<div>\n",
       "<style scoped>\n",
       "    .dataframe tbody tr th:only-of-type {\n",
       "        vertical-align: middle;\n",
       "    }\n",
       "\n",
       "    .dataframe tbody tr th {\n",
       "        vertical-align: top;\n",
       "    }\n",
       "\n",
       "    .dataframe thead th {\n",
       "        text-align: right;\n",
       "    }\n",
       "</style>\n",
       "<table border=\"1\" class=\"dataframe\">\n",
       "  <thead>\n",
       "    <tr style=\"text-align: right;\">\n",
       "      <th></th>\n",
       "      <th>NEIGHBORHOOD</th>\n",
       "    </tr>\n",
       "  </thead>\n",
       "  <tbody>\n",
       "    <tr>\n",
       "      <th>0</th>\n",
       "      <td>North Oakland</td>\n",
       "    </tr>\n",
       "    <tr>\n",
       "      <th>1</th>\n",
       "      <td>North Oakland</td>\n",
       "    </tr>\n",
       "    <tr>\n",
       "      <th>2</th>\n",
       "      <td>Allegheny Center</td>\n",
       "    </tr>\n",
       "    <tr>\n",
       "      <th>3</th>\n",
       "      <td>Homewood South</td>\n",
       "    </tr>\n",
       "    <tr>\n",
       "      <th>4</th>\n",
       "      <td>Upper Lawrenceville</td>\n",
       "    </tr>\n",
       "    <tr>\n",
       "      <th>...</th>\n",
       "      <td>...</td>\n",
       "    </tr>\n",
       "    <tr>\n",
       "      <th>14517</th>\n",
       "      <td>Central Business District</td>\n",
       "    </tr>\n",
       "    <tr>\n",
       "      <th>14518</th>\n",
       "      <td>Central Business District</td>\n",
       "    </tr>\n",
       "    <tr>\n",
       "      <th>14519</th>\n",
       "      <td>Central Business District</td>\n",
       "    </tr>\n",
       "    <tr>\n",
       "      <th>14520</th>\n",
       "      <td>NaN</td>\n",
       "    </tr>\n",
       "    <tr>\n",
       "      <th>14521</th>\n",
       "      <td>Central Business District</td>\n",
       "    </tr>\n",
       "  </tbody>\n",
       "</table>\n",
       "<p>14522 rows × 1 columns</p>\n",
       "</div>"
      ],
      "text/plain": [
       "                    NEIGHBORHOOD\n",
       "0                  North Oakland\n",
       "1                  North Oakland\n",
       "2               Allegheny Center\n",
       "3                 Homewood South\n",
       "4            Upper Lawrenceville\n",
       "...                          ...\n",
       "14517  Central Business District\n",
       "14518  Central Business District\n",
       "14519  Central Business District\n",
       "14520                        NaN\n",
       "14521  Central Business District\n",
       "\n",
       "[14522 rows x 1 columns]"
      ]
     },
     "execution_count": 3,
     "metadata": {},
     "output_type": "execute_result"
    }
   ],
   "source": [
    "pd.DataFrame(data[\"NEIGHBORHOOD\"])"
   ]
  },
  {
   "cell_type": "markdown",
   "metadata": {},
   "source": [
    "Here's the total non-traffic events going on in each neighborhood"
   ]
  },
  {
   "cell_type": "code",
   "execution_count": 4,
   "metadata": {},
   "outputs": [
    {
     "name": "stdout",
     "output_type": "stream",
     "text": [
      "{'Point Breeze North': 41, 'Squirrel Hill North': 167, 'Garfield': 103, 'Bedford Dwellings': 63, 'Knoxville': 225, 'Homewood South': 214, 'Middle Hill': 100, 'Oakwood': 9, 'North Oakland': 192, 'Duquesne Heights': 20, 'Glen Hazel': 28, 'East Liberty': 216, 'Westwood': 31, 'Morningside': 24, 'Lincoln Place': 39, 'Perry North': 42, 'Northview Heights': 63, 'Homewood North': 202, 'Arlington Heights': 7, 'Lower Lawrenceville': 30, 'Larimer': 150, 'Lincoln-Lemington-Belmar': 134, 'Bluff': 138, 'Fairywood': 14, 'Brookline': 300, 'Hays': 8, 'Beltzhoover': 78, 'Greenfield': 149, 'East Carnegie': 22, 'North Shore': 542, 'Allentown': 179, 'Bon Air': 25, 'Allegheny West': 16, 'Crafton Heights': 61, 'Manchester': 35, 'Marshall-Shadeland': 113, 'Highland Park': 49, 'New Homestead': 8, 'Central Northside': 0, 'Polish Hill': 17, 'Overbrook': 54, 'Friendship': 16, 'Homewood West': 46, 'Central Business District': 1781, 'East Allegheny': 342, 'Allegheny Center': 155, 'Central Oakland': 650, 'Brighton Heights': 128, 'South Side Slopes': 171, 'Arlington': 82, 'Chartiers City': 2, 'Carrick': 411, 'Bloomfield': 141, 'Banksville': 37, 'Mount Washington': 311, 'East Hills': 142, 'Central Lawrenceville': 148, 'West End': 31, 'Esplen': 29, 'Point Breeze': 51, 'Hazelwood': 264, 'Crawford-Roberts': 96, 'South Oakland': 118, 'Upper Hill': 25, 'Ridgemont': 4, 'Troy Hill': 46, 'South Shore': 50, 'Mt. Oliver': 0, 'California-Kirkbride': 31, 'Spring Hill-City View': 51, 'Sheraden': 251, 'Stanton Heights': 27, 'Beechview': 148, 'St. Clair': 3, 'Chateau': 59, 'Shadyside': 295, 'Summer Hill': 7, 'West Oakland': 60, 'Windgap': 16, 'Spring Garden': 8, 'Squirrel Hill South': 262, 'Strip District': 98, 'Swisshelm Park': 6, 'Perry South': 72, 'Upper Lawrenceville': 34, 'Regent Square': 9, 'Terrace Village': 37, 'Elliott': 126, 'South Side Flats': 3269, 'Fineview': 36}\n"
     ]
    }
   ],
   "source": [
    "dic = {}\n",
    "\n",
    "for i in neighborhood[\"hood\"]:\n",
    "    dic[i] = 0\n",
    "    \n",
    "for index,row in data.iterrows():\n",
    "    neighborhood = row['NEIGHBORHOOD']\n",
    "    \n",
    "    if neighborhood in dic:\n",
    "        dic[neighborhood] += 1\n",
    "print(dic)\n"
   ]
  },
  {
   "cell_type": "code",
   "execution_count": 5,
   "metadata": {},
   "outputs": [
    {
     "data": {
      "text/html": [
       "<div>\n",
       "<style scoped>\n",
       "    .dataframe tbody tr th:only-of-type {\n",
       "        vertical-align: middle;\n",
       "    }\n",
       "\n",
       "    .dataframe tbody tr th {\n",
       "        vertical-align: top;\n",
       "    }\n",
       "\n",
       "    .dataframe thead th {\n",
       "        text-align: right;\n",
       "    }\n",
       "</style>\n",
       "<table border=\"1\" class=\"dataframe\">\n",
       "  <thead>\n",
       "    <tr style=\"text-align: right;\">\n",
       "      <th></th>\n",
       "      <th>count</th>\n",
       "    </tr>\n",
       "  </thead>\n",
       "  <tbody>\n",
       "    <tr>\n",
       "      <th>Point Breeze North</th>\n",
       "      <td>41</td>\n",
       "    </tr>\n",
       "    <tr>\n",
       "      <th>Squirrel Hill North</th>\n",
       "      <td>167</td>\n",
       "    </tr>\n",
       "    <tr>\n",
       "      <th>Garfield</th>\n",
       "      <td>103</td>\n",
       "    </tr>\n",
       "    <tr>\n",
       "      <th>Bedford Dwellings</th>\n",
       "      <td>63</td>\n",
       "    </tr>\n",
       "    <tr>\n",
       "      <th>Knoxville</th>\n",
       "      <td>225</td>\n",
       "    </tr>\n",
       "    <tr>\n",
       "      <th>...</th>\n",
       "      <td>...</td>\n",
       "    </tr>\n",
       "    <tr>\n",
       "      <th>Regent Square</th>\n",
       "      <td>9</td>\n",
       "    </tr>\n",
       "    <tr>\n",
       "      <th>Terrace Village</th>\n",
       "      <td>37</td>\n",
       "    </tr>\n",
       "    <tr>\n",
       "      <th>Elliott</th>\n",
       "      <td>126</td>\n",
       "    </tr>\n",
       "    <tr>\n",
       "      <th>South Side Flats</th>\n",
       "      <td>3269</td>\n",
       "    </tr>\n",
       "    <tr>\n",
       "      <th>Fineview</th>\n",
       "      <td>36</td>\n",
       "    </tr>\n",
       "  </tbody>\n",
       "</table>\n",
       "<p>90 rows × 1 columns</p>\n",
       "</div>"
      ],
      "text/plain": [
       "                     count\n",
       "Point Breeze North      41\n",
       "Squirrel Hill North    167\n",
       "Garfield               103\n",
       "Bedford Dwellings       63\n",
       "Knoxville              225\n",
       "...                    ...\n",
       "Regent Square            9\n",
       "Terrace Village         37\n",
       "Elliott                126\n",
       "South Side Flats      3269\n",
       "Fineview                36\n",
       "\n",
       "[90 rows x 1 columns]"
      ]
     },
     "metadata": {},
     "output_type": "display_data"
    }
   ],
   "source": [
    "df = pd.DataFrame.from_dict(dic, orient=\"index\", columns = [\"count\"])\n",
    "display(df)"
   ]
  },
  {
   "cell_type": "code",
   "execution_count": 6,
   "metadata": {},
   "outputs": [
    {
     "name": "stdout",
     "output_type": "stream",
     "text": [
      "41\n"
     ]
    }
   ],
   "source": [
    "item = df.loc[\"Point Breeze North\",\"count\"]\n",
    "print(item)"
   ]
  },
  {
   "cell_type": "code",
   "execution_count": 7,
   "metadata": {},
   "outputs": [
    {
     "data": {
      "image/png": "[encoded data removed]",
      "text/plain": [
       "<Figure size 432x288 with 1 Axes>"
      ]
     },
     "metadata": {
      "needs_background": "light"
     },
     "output_type": "display_data"
    }
   ],
   "source": [
    "df.iloc[:40].plot(kind=\"bar\", legend=None)\n",
    "plt.title(\"Non-Traffic\")\n",
    "plt.xlabel(\"Neighborhood\")\n",
    "plt.ylabel(\"Count\")\n",
    "plt.show()"
   ]
  },
  {
   "cell_type": "code",
   "execution_count": 8,
   "metadata": {},
   "outputs": [
    {
     "data": {
      "image/png": "[encoded data removed]",
      "text/plain": [
       "<Figure size 432x288 with 1 Axes>"
      ]
     },
     "metadata": {
      "needs_background": "light"
     },
     "output_type": "display_data"
    }
   ],
   "source": [
    "df.plot(kind=\"area\", legend=None)\n",
    "plt.title(\"Non-Traffic\")\n",
    "plt.xlabel(\"Neighborhood\")\n",
    "plt.ylabel(\"Count\")\n",
    "plt.show()"
   ]
  },
  {
   "cell_type": "code",
   "execution_count": 12,
   "metadata": {},
   "outputs": [
    {
     "data": {
      "text/plain": [
       "<matplotlib.axes._subplots.AxesSubplot at 0x7fba29841c10>"
      ]
     },
     "execution_count": 12,
     "metadata": {},
     "output_type": "execute_result"
    },
    {
     "data": {
      "image/png": "[encoded data removed]",
      "text/plain": [
       "<Figure size 432x288 with 2 Axes>"
      ]
     },
     "metadata": {
      "needs_background": "light"
     },
     "output_type": "display_data"
    }
   ],
   "source": [
    "neighborhood[\"Traffic\"] = dic.values()\n",
    "neighborhood.plot(column = \"Traffic\", legend = True)"
   ]
  }
 ],
 "metadata": {
  "kernelspec": {
   "display_name": "Python 3",
   "language": "python",
   "name": "python3"
  },
  "language_info": {
   "codemirror_mode": {
    "name": "ipython",
    "version": 3
   },
   "file_extension": ".py",
   "mimetype": "text/x-python",
   "name": "python",
   "nbconvert_exporter": "python",
   "pygments_lexer": "ipython3",
   "version": "3.8.3"
  }
 },
 "nbformat": 4,
 "nbformat_minor": 4
}
